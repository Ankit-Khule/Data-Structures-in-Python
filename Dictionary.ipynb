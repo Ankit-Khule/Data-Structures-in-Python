{
 "cells": [
  {
   "cell_type": "markdown",
   "metadata": {},
   "source": [
    "# Dictionary"
   ]
  },
  {
   "cell_type": "markdown",
   "metadata": {},
   "source": [
    "* Dictionary are mutable data structure, which means they can be modified.\n",
    "* Dicitonary consist of key-value pair.\n",
    "* Dictionary is defined as dict_name={key:value,key1:value1...}\n",
    "* Dictionary is unordered."
   ]
  },
  {
   "cell_type": "code",
   "execution_count": 27,
   "metadata": {},
   "outputs": [],
   "source": [
    "#creating a dictionary\n",
    "Dictionary={'Name': 'Uday','Age':'55','weight':'80'}"
   ]
  },
  {
   "cell_type": "code",
   "execution_count": 28,
   "metadata": {},
   "outputs": [
    {
     "data": {
      "text/plain": [
       "'Uday'"
      ]
     },
     "execution_count": 28,
     "metadata": {},
     "output_type": "execute_result"
    }
   ],
   "source": [
    "#we call the value inside the dictionary using the key\n",
    "Dictionary['Name']"
   ]
  },
  {
   "cell_type": "code",
   "execution_count": 29,
   "metadata": {},
   "outputs": [
    {
     "name": "stdout",
     "output_type": "stream",
     "text": [
      "dict_keys(['Name', 'Age', 'weight'])\n",
      "dict_values(['Uday', '55', '80'])\n"
     ]
    }
   ],
   "source": [
    "#getting all the keys and values from the dictionary\n",
    "print(Dictionary.keys())\n",
    "print(Dictionary.values())"
   ]
  },
  {
   "cell_type": "code",
   "execution_count": 30,
   "metadata": {},
   "outputs": [
    {
     "data": {
      "text/plain": [
       "dict_items([('Name', 'Uday'), ('Age', '55'), ('weight', '80')])"
      ]
     },
     "execution_count": 30,
     "metadata": {},
     "output_type": "execute_result"
    }
   ],
   "source": [
    "# returns all the key value pair inside the dictionary\n",
    "Dictionary.items()"
   ]
  },
  {
   "cell_type": "code",
   "execution_count": 31,
   "metadata": {},
   "outputs": [
    {
     "data": {
      "text/plain": [
       "'Not Found'"
      ]
     },
     "execution_count": 31,
     "metadata": {},
     "output_type": "execute_result"
    }
   ],
   "source": [
    "#gets the value if present if not then display a message\n",
    "Dictionary.get(\"height\",\"Not Found\")"
   ]
  },
  {
   "cell_type": "code",
   "execution_count": 32,
   "metadata": {},
   "outputs": [
    {
     "data": {
      "text/plain": [
       "dict_items([('Name', 'Uday'), ('Age', '55'), ('weight', '80'), ('Hieght', 5.5)])"
      ]
     },
     "execution_count": 32,
     "metadata": {},
     "output_type": "execute_result"
    }
   ],
   "source": [
    "#adding data to dictionary. to add we need to create a key value pair\n",
    "Dictionary[\"Hieght\"]=5.5\n",
    "Dictionary.items()"
   ]
  },
  {
   "cell_type": "code",
   "execution_count": 33,
   "metadata": {},
   "outputs": [
    {
     "data": {
      "text/plain": [
       "dict_items([('Name', 'Uday'), ('Age', '55'), ('weight', '80'), ('Hieght', 6.5)])"
      ]
     },
     "execution_count": 33,
     "metadata": {},
     "output_type": "execute_result"
    }
   ],
   "source": [
    "#modify dictionary value. We changed the height.\n",
    "Dictionary[\"Hieght\"]=6.5\n",
    "Dictionary.items()"
   ]
  },
  {
   "cell_type": "code",
   "execution_count": 34,
   "metadata": {},
   "outputs": [
    {
     "name": "stdout",
     "output_type": "stream",
     "text": [
      "('weight', '80')\n"
     ]
    },
    {
     "data": {
      "text/plain": [
       "dict_items([('Name', 'Uday'), ('Age', '55')])"
      ]
     },
     "execution_count": 34,
     "metadata": {},
     "output_type": "execute_result"
    }
   ],
   "source": [
    "#removing a value\n",
    "del Dictionary['Hieght']\n",
    "Dictionary.items()\n",
    "\n",
    "#this will remove the last key value pair fromt he dictionary. weight key value pair is removed.\n",
    "print(Dictionary.popitem())\n",
    "Dictionary.items()"
   ]
  },
  {
   "cell_type": "code",
   "execution_count": null,
   "metadata": {},
   "outputs": [],
   "source": []
  }
 ],
 "metadata": {
  "kernelspec": {
   "display_name": "Python 3",
   "language": "python",
   "name": "python3"
  },
  "language_info": {
   "codemirror_mode": {
    "name": "ipython",
    "version": 3
   },
   "file_extension": ".py",
   "mimetype": "text/x-python",
   "name": "python",
   "nbconvert_exporter": "python",
   "pygments_lexer": "ipython3",
   "version": "3.6.4"
  }
 },
 "nbformat": 4,
 "nbformat_minor": 2
}
