{
 "cells": [
  {
   "cell_type": "markdown",
   "metadata": {},
   "source": [
    "# List"
   ]
  },
  {
   "cell_type": "markdown",
   "metadata": {},
   "source": [
    "* List is an ordered data structures. \n",
    "* List are mutable, which means they can be updated or replaced or deleted.\n",
    "* List can have any datatype included in it. It can mixtures of data types from string,int or tuple.\n",
    "* List is defined as **List_name=[..,...]**\n",
    "* Elements of the list can be iterated"
   ]
  },
  {
   "cell_type": "code",
   "execution_count": 1,
   "metadata": {},
   "outputs": [],
   "source": [
    "list1=[1,2,4,56,78,984]"
   ]
  },
  {
   "cell_type": "code",
   "execution_count": 2,
   "metadata": {},
   "outputs": [
    {
     "name": "stdout",
     "output_type": "stream",
     "text": [
      "<class 'list'>\n"
     ]
    }
   ],
   "source": [
    "print(type(list1))"
   ]
  },
  {
   "cell_type": "code",
   "execution_count": 5,
   "metadata": {},
   "outputs": [],
   "source": [
    "listmixed=[1,6.75, 'String',True,(45,1,12,42)]"
   ]
  },
  {
   "cell_type": "code",
   "execution_count": 4,
   "metadata": {},
   "outputs": [
    {
     "name": "stdout",
     "output_type": "stream",
     "text": [
      "<class 'list'>\n"
     ]
    }
   ],
   "source": [
    "print(type(listmixed))"
   ]
  },
  {
   "cell_type": "code",
   "execution_count": 7,
   "metadata": {},
   "outputs": [
    {
     "name": "stdout",
     "output_type": "stream",
     "text": [
      "<class 'int'>\n",
      "<class 'float'>\n",
      "<class 'str'>\n",
      "<class 'bool'>\n",
      "<class 'tuple'>\n"
     ]
    }
   ],
   "source": [
    "#lets print each datatype present inside the list. in this each element is been iterated.\n",
    "for i in listmixed:\n",
    "    print(type(i))"
   ]
  },
  {
   "cell_type": "markdown",
   "metadata": {},
   "source": [
    "### Methods present in list\n",
    "* Methods are function which can be used on a object.\n",
    "* Below are the function we can apply on list\n",
    "    * list.index(a)      --> returns the index value of the item a.\n",
    "    * list.count(a)      --> return count of the item a.\n",
    "    * list.append('a')   --> append 'a' to the end of the list. used for adding single element to the list.\n",
    "    * list.remove('a')   --> remove 'a' from the list.\n",
    "    * del(list[0:1])     --> delete particular items from the list. Used to delete the series using index value.\n",
    "    * list.reverse()     --> reverse the order of the list\n",
    "    * list.extend('!')   --> extend the number of items in the list \n",
    "    * list.pop(-1)       --> removes an item from the list using index value \n",
    "    * list.insert(0,'!') --> insert an item to the list by specifying the location where you want to insert\n",
    "    * list.sort()        --> sort the list by default in ascending order\n",
    " Let's try examples on each"
   ]
  },
  {
   "cell_type": "code",
   "execution_count": 52,
   "metadata": {},
   "outputs": [
    {
     "name": "stdout",
     "output_type": "stream",
     "text": [
      "984\n",
      "[4, 56, 78, 984]\n"
     ]
    }
   ],
   "source": [
    "#slicing and index\n",
    "list1=[1,2,4,56,78,984]\n",
    "print(list1[5]) #using index value to retrive the data\n",
    "print(list1[2:6])  #slicing the list"
   ]
  },
  {
   "cell_type": "code",
   "execution_count": 53,
   "metadata": {},
   "outputs": [
    {
     "name": "stdout",
     "output_type": "stream",
     "text": [
      "[1, 4, 56, 78, 984]\n"
     ]
    }
   ],
   "source": [
    "#pop\n",
    "list1.pop(1)\n",
    "print(list1)"
   ]
  },
  {
   "cell_type": "code",
   "execution_count": 54,
   "metadata": {},
   "outputs": [
    {
     "name": "stdout",
     "output_type": "stream",
     "text": [
      "[1, 4, 56, 78, 984, 2]\n"
     ]
    }
   ],
   "source": [
    "#append\n",
    "list1.append(2)\n",
    "print(list1)"
   ]
  },
  {
   "cell_type": "code",
   "execution_count": 55,
   "metadata": {},
   "outputs": [
    {
     "name": "stdout",
     "output_type": "stream",
     "text": [
      "[1, 4, 4, 56, 78, 984, 2]\n"
     ]
    }
   ],
   "source": [
    "#insert value 2 at index value 2\n",
    "list1.insert(2,4)\n",
    "print(list1)"
   ]
  },
  {
   "cell_type": "code",
   "execution_count": 56,
   "metadata": {},
   "outputs": [
    {
     "data": {
      "text/plain": [
       "2"
      ]
     },
     "execution_count": 56,
     "metadata": {},
     "output_type": "execute_result"
    }
   ],
   "source": [
    "#count\n",
    "list1.count(4)"
   ]
  },
  {
   "cell_type": "code",
   "execution_count": 57,
   "metadata": {},
   "outputs": [
    {
     "name": "stdout",
     "output_type": "stream",
     "text": [
      "[1, 4, 4, 78, 984, 2]\n"
     ]
    }
   ],
   "source": [
    "#remove\n",
    "list1.remove(56)\n",
    "print(list1)"
   ]
  },
  {
   "cell_type": "code",
   "execution_count": 61,
   "metadata": {},
   "outputs": [
    {
     "name": "stdout",
     "output_type": "stream",
     "text": [
      "[1, 4, 4, 78]\n"
     ]
    }
   ],
   "source": [
    "#del\n",
    "del list1[4:6]\n",
    "print(list1)"
   ]
  },
  {
   "cell_type": "code",
   "execution_count": 64,
   "metadata": {},
   "outputs": [
    {
     "name": "stdout",
     "output_type": "stream",
     "text": [
      "[1, 4, 4, 78, 'S', 't', 'r', 'i', 'n', 'g']\n"
     ]
    }
   ],
   "source": [
    "#extend. it adds the iterable element to the end of the list. it takes string, list or tuple as an input.\n",
    "for i in 'String':\n",
    "    list1.extend(i)\n",
    "print(list1)"
   ]
  },
  {
   "cell_type": "code",
   "execution_count": 71,
   "metadata": {},
   "outputs": [
    {
     "name": "stdout",
     "output_type": "stream",
     "text": [
      "['S', 'i', 'n', 'r', 't']\n"
     ]
    }
   ],
   "source": [
    "#Sorting is done if  the list consist of only one data types.\n",
    "sortlist=list1[4:9]\n",
    "sortlist.sort()\n",
    "print(sortlist)"
   ]
  },
  {
   "cell_type": "code",
   "execution_count": 72,
   "metadata": {},
   "outputs": [
    {
     "data": {
      "text/plain": [
       "[4, 78, 't', 'i', 'g']"
      ]
     },
     "execution_count": 72,
     "metadata": {},
     "output_type": "execute_result"
    }
   ],
   "source": [
    "#slicing returns 2nd item from the list starting from the 1st item\n",
    "list1[1::2]"
   ]
  },
  {
   "cell_type": "code",
   "execution_count": 73,
   "metadata": {},
   "outputs": [
    {
     "data": {
      "text/plain": [
       "['t', 'r', 'i', 'n', 'g']"
      ]
     },
     "execution_count": 73,
     "metadata": {},
     "output_type": "execute_result"
    }
   ],
   "source": [
    "#negative slicing. returns last 5 elements\n",
    "list1[-5:]"
   ]
  },
  {
   "cell_type": "code",
   "execution_count": 90,
   "metadata": {},
   "outputs": [
    {
     "name": "stdout",
     "output_type": "stream",
     "text": [
      "list= [1, 4, 4, 78]\n",
      "sum= 87\n",
      "minimum value= 1\n",
      "length= 4\n"
     ]
    },
    {
     "data": {
      "text/plain": [
       "'String'"
      ]
     },
     "execution_count": 90,
     "metadata": {},
     "output_type": "execute_result"
    }
   ],
   "source": [
    "#aggregate function\n",
    "print(\"list=\",list1[0:4])\n",
    "print(\"sum=\",sum(list1[0:4])) #sum function used to add numeric data\n",
    "print(\"minimum value=\",min(list1[0:4])) #min value from the list\n",
    "print(\"length=\",len(list1[0:4])) #lenght of the list\n",
    "\n",
    "#join function. Converts a list  into string\n",
    "\"\".join(list1[4:10])\n"
   ]
  }
 ],
 "metadata": {
  "kernelspec": {
   "display_name": "Python 3",
   "language": "python",
   "name": "python3"
  },
  "language_info": {
   "codemirror_mode": {
    "name": "ipython",
    "version": 3
   },
   "file_extension": ".py",
   "mimetype": "text/x-python",
   "name": "python",
   "nbconvert_exporter": "python",
   "pygments_lexer": "ipython3",
   "version": "3.6.4"
  }
 },
 "nbformat": 4,
 "nbformat_minor": 2
}
